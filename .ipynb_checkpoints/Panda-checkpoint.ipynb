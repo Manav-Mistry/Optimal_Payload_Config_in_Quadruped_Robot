{
 "cells": [
  {
   "cell_type": "code",
   "execution_count": 1,
   "id": "6fc0ea8b-3d71-4f02-bf2c-ac2f17c116bd",
   "metadata": {},
   "outputs": [
    {
     "name": "stderr",
     "output_type": "stream",
     "text": [
      "\u001b[1m\u001b[33m[robosuite WARNING] \u001b[0mNo private macro file found! (macros.py:53)\n",
      "\u001b[1m\u001b[33m[robosuite WARNING] \u001b[0mIt is recommended to use a private macro file (macros.py:54)\n",
      "\u001b[1m\u001b[33m[robosuite WARNING] \u001b[0mTo setup, run: python C:\\Users\\Admin\\anaconda3\\envs\\robosuite\\lib\\site-packages\\robosuite/scripts/setup_macros.py (macros.py:55)\n",
      "\u001b[1m\u001b[33m[robosuite WARNING] \u001b[0mCould not import robosuite_models. Some robots may not be available. If you want to use these robots, please install robosuite_models from source (https://github.com/ARISE-Initiative/robosuite_models) or through pip install. (__init__.py:30)\n",
      "\u001b[1m\u001b[33m[robosuite WARNING] \u001b[0mCould not load the mink-based whole-body IK. Make sure you install related import properly, otherwise you will not be able to use the default IK controller setting for GR1 robot. (__init__.py:40)\n"
     ]
    }
   ],
   "source": [
    "from robosuite.models import MujocoWorldBase\n",
    "\n",
    "world = MujocoWorldBase()"
   ]
  },
  {
   "cell_type": "code",
   "execution_count": 2,
   "id": "72b1779b-4e7a-411d-99f6-fd8f2f0a1b5b",
   "metadata": {},
   "outputs": [],
   "source": [
    "from robosuite.models.robots import Panda\n",
    "\n",
    "mujoco_robot = Panda()"
   ]
  },
  {
   "cell_type": "code",
   "execution_count": 3,
   "id": "13a79566-89fd-4071-87ca-69b78e1b79d4",
   "metadata": {},
   "outputs": [],
   "source": [
    "from robosuite.models.grippers import gripper_factory\n",
    "\n",
    "gripper = gripper_factory('PandaGripper')\n",
    "mujoco_robot.add_gripper(gripper)"
   ]
  },
  {
   "cell_type": "code",
   "execution_count": 4,
   "id": "eb727ae2-3c1c-46fd-81e6-041dc70a555c",
   "metadata": {},
   "outputs": [],
   "source": [
    "mujoco_robot.set_base_xpos([0, 0, 0])\n",
    "world.merge(mujoco_robot)"
   ]
  },
  {
   "cell_type": "code",
   "execution_count": 5,
   "id": "eaecd7f5-64f2-452e-87e0-b0fda2841d99",
   "metadata": {},
   "outputs": [],
   "source": [
    "from robosuite.models.arenas import TableArena\n",
    "\n",
    "mujoco_arena = TableArena()\n",
    "mujoco_arena.set_origin([0.8, 0, 0])\n",
    "world.merge(mujoco_arena)"
   ]
  },
  {
   "cell_type": "code",
   "execution_count": 6,
   "id": "5060f7cb-8643-418e-8ba7-aea5e5fa076c",
   "metadata": {},
   "outputs": [],
   "source": [
    "from robosuite.models.objects import BallObject\n",
    "from robosuite.utils.mjcf_utils import new_joint\n",
    "\n",
    "sphere = BallObject(\n",
    "    name=\"sphere\",\n",
    "    size=[0.04],\n",
    "    rgba=[0, 0.5, 0.5, 1]).get_obj()\n",
    "sphere.set('pos', '1.0 0 1.0')\n",
    "world.worldbody.append(sphere)"
   ]
  },
  {
   "cell_type": "code",
   "execution_count": 7,
   "id": "0c544bb5-35ce-42ed-9cf3-8efbb68d2084",
   "metadata": {},
   "outputs": [],
   "source": [
    "model = world.get_model(mode=\"mujoco\")"
   ]
  },
  {
   "cell_type": "code",
   "execution_count": 8,
   "id": "c1589499-5f80-4ef1-a638-4d36e2cef267",
   "metadata": {},
   "outputs": [
    {
     "ename": "AttributeError",
     "evalue": "__enter__",
     "output_type": "error",
     "traceback": [
      "\u001b[1;31m---------------------------------------------------------------------------\u001b[0m",
      "\u001b[1;31mAttributeError\u001b[0m                            Traceback (most recent call last)",
      "Cell \u001b[1;32mIn[8], line 6\u001b[0m\n\u001b[0;32m      3\u001b[0m \u001b[38;5;28;01mimport\u001b[39;00m \u001b[38;5;21;01mtime\u001b[39;00m\n\u001b[0;32m      5\u001b[0m data \u001b[38;5;241m=\u001b[39m mujoco\u001b[38;5;241m.\u001b[39mMjData(model)\n\u001b[1;32m----> 6\u001b[0m \u001b[38;5;28;01mwith\u001b[39;00m mujoco\u001b[38;5;241m.\u001b[39mviewer\u001b[38;5;241m.\u001b[39mlaunch(model, data) \u001b[38;5;28;01mas\u001b[39;00m viewer:\n\u001b[0;32m      7\u001b[0m     \u001b[38;5;28;01mwhile\u001b[39;00m \u001b[38;5;28;01mTrue\u001b[39;00m:\n\u001b[0;32m      8\u001b[0m         mujoco\u001b[38;5;241m.\u001b[39mmj_step(model, data)\n",
      "\u001b[1;31mAttributeError\u001b[0m: __enter__"
     ]
    }
   ],
   "source": [
    "import mujoco\n",
    "import mujoco.viewer\n",
    "import time\n",
    "\n",
    "data = mujoco.MjData(model)\n",
    "with mujoco.viewer.launch(model, data) as viewer:\n",
    "    while True:\n",
    "        mujoco.mj_step(model, data)\n",
    "        viewer.sync()\n",
    "        time.sleep(model.opt.timestep)"
   ]
  },
  {
   "cell_type": "code",
   "execution_count": null,
   "id": "031b2da6-d26f-4a8b-b839-61b8cea91b0b",
   "metadata": {},
   "outputs": [],
   "source": []
  }
 ],
 "metadata": {
  "kernelspec": {
   "display_name": "Python 3 (ipykernel)",
   "language": "python",
   "name": "python3"
  },
  "language_info": {
   "codemirror_mode": {
    "name": "ipython",
    "version": 3
   },
   "file_extension": ".py",
   "mimetype": "text/x-python",
   "name": "python",
   "nbconvert_exporter": "python",
   "pygments_lexer": "ipython3",
   "version": "3.10.16"
  }
 },
 "nbformat": 4,
 "nbformat_minor": 5
}
