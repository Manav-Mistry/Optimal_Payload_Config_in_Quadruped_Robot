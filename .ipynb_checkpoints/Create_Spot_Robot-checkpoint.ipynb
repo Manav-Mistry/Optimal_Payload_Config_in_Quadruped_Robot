{
 "cells": [
  {
   "cell_type": "markdown",
   "id": "44a27f8d-8af7-42fb-bc9b-96c1b8e334b5",
   "metadata": {},
   "source": [
    "# Defining Robot"
   ]
  },
  {
   "cell_type": "code",
   "execution_count": 1,
   "id": "1adbb531-a568-4e27-ac94-76aefb369a69",
   "metadata": {},
   "outputs": [],
   "source": [
    "import os\n",
    "\n",
    "robot_model_path = os.path.join(\"Mujoco_XML_Files\", \"spot.xml\")"
   ]
  },
  {
   "cell_type": "code",
   "execution_count": 2,
   "id": "139e6070-d539-40e5-a791-789a882beecd",
   "metadata": {},
   "outputs": [
    {
     "name": "stderr",
     "output_type": "stream",
     "text": [
      "\u001b[1m\u001b[33m[robosuite WARNING] \u001b[0mNo private macro file found! (macros.py:53)\n",
      "\u001b[1m\u001b[33m[robosuite WARNING] \u001b[0mIt is recommended to use a private macro file (macros.py:54)\n",
      "\u001b[1m\u001b[33m[robosuite WARNING] \u001b[0mTo setup, run: python C:\\Users\\Admin\\anaconda3\\envs\\robosuite\\lib\\site-packages\\robosuite/scripts/setup_macros.py (macros.py:55)\n",
      "\u001b[1m\u001b[33m[robosuite WARNING] \u001b[0mCould not import robosuite_models. Some robots may not be available. If you want to use these robots, please install robosuite_models from source (https://github.com/ARISE-Initiative/robosuite_models) or through pip install. (__init__.py:30)\n",
      "\u001b[1m\u001b[33m[robosuite WARNING] \u001b[0mCould not load the mink-based whole-body IK. Make sure you install related import properly, otherwise you will not be able to use the default IK controller setting for GR1 robot. (__init__.py:40)\n"
     ]
    }
   ],
   "source": [
    "from robosuite.models import MujocoWorldBase\n",
    "\n",
    "world = MujocoWorldBase()"
   ]
  },
  {
   "cell_type": "code",
   "execution_count": 3,
   "id": "eedc8f1b-4926-450d-9de4-83ff931644d8",
   "metadata": {},
   "outputs": [],
   "source": [
    "import numpy as np\n",
    "from robosuite.models.robots.robot_model import RobotModel\n",
    "from robosuite.utils.mjcf_utils import xml_path_completion\n",
    "\n",
    "\n",
    "class MyMobileRobot(RobotModel):\n",
    "    def __init__(self, robot_model_path, idn=0):\n",
    "        # Path to your custom XML\n",
    "        fname = robot_model_path\n",
    "        super().__init__(fname=fname, idn=idn)\n",
    "\n",
    "    @property\n",
    "    def init_qpos(self):\n",
    "        return np.zeros(self.dof)\n",
    "\n",
    "    @property\n",
    "    def top_offset(self):\n",
    "        return np.array([0, 0, 1.0])\n"
   ]
  },
  {
   "cell_type": "code",
   "execution_count": 4,
   "id": "5a9207f4-b528-4648-8f74-09068b2f17db",
   "metadata": {},
   "outputs": [],
   "source": [
    "mujoco_robot = MyMobileRobot(robot_model_path=robot_model_path)"
   ]
  },
  {
   "cell_type": "code",
   "execution_count": 5,
   "id": "acdb6818-7770-4831-bc8c-508a0b66da63",
   "metadata": {},
   "outputs": [],
   "source": [
    "mujoco_robot.set_base_xpos([0, 0, 0])\n",
    "world.merge(mujoco_robot)"
   ]
  },
  {
   "cell_type": "code",
   "execution_count": 6,
   "id": "0bd4cba9-79cf-450c-910a-fe46524cbfaf",
   "metadata": {},
   "outputs": [],
   "source": [
    "from robosuite.models.arenas import TableArena\n",
    "\n",
    "mujoco_arena = TableArena()\n",
    "mujoco_arena.set_origin([0.8, 0, 0])\n",
    "world.merge(mujoco_arena)"
   ]
  },
  {
   "cell_type": "code",
   "execution_count": 7,
   "id": "74e17df8-b263-4011-b44a-700a055e4978",
   "metadata": {},
   "outputs": [],
   "source": [
    "model = world.get_model(mode=\"mujoco\")"
   ]
  },
  {
   "cell_type": "code",
   "execution_count": 8,
   "id": "c9ec4005-78e0-46f1-a3e2-181eb47fc4f9",
   "metadata": {},
   "outputs": [],
   "source": [
    "import mujoco\n",
    "\n",
    "data = mujoco.MjData(model)\n",
    "while data.time < 1:\n",
    "    mujoco.mj_step(model, data)"
   ]
  },
  {
   "cell_type": "code",
   "execution_count": 9,
   "id": "ac03f611-c8e7-4e39-bf63-532f080a95a0",
   "metadata": {},
   "outputs": [
    {
     "ename": "AttributeError",
     "evalue": "__enter__",
     "output_type": "error",
     "traceback": [
      "\u001b[1;31m---------------------------------------------------------------------------\u001b[0m",
      "\u001b[1;31mAttributeError\u001b[0m                            Traceback (most recent call last)",
      "Cell \u001b[1;32mIn[9], line 6\u001b[0m\n\u001b[0;32m      3\u001b[0m \u001b[38;5;28;01mimport\u001b[39;00m \u001b[38;5;21;01mtime\u001b[39;00m\n\u001b[0;32m      5\u001b[0m data \u001b[38;5;241m=\u001b[39m mujoco\u001b[38;5;241m.\u001b[39mMjData(model)\n\u001b[1;32m----> 6\u001b[0m \u001b[38;5;28;01mwith\u001b[39;00m mujoco\u001b[38;5;241m.\u001b[39mviewer\u001b[38;5;241m.\u001b[39mlaunch(model, data) \u001b[38;5;28;01mas\u001b[39;00m viewer:\n\u001b[0;32m      7\u001b[0m     \u001b[38;5;28;01mwhile\u001b[39;00m \u001b[38;5;28;01mTrue\u001b[39;00m:\n\u001b[0;32m      8\u001b[0m         mujoco\u001b[38;5;241m.\u001b[39mmj_step(model, data)\n",
      "\u001b[1;31mAttributeError\u001b[0m: __enter__"
     ]
    }
   ],
   "source": [
    "import mujoco\n",
    "import mujoco.viewer\n",
    "import time\n",
    "\n",
    "data = mujoco.MjData(model)\n",
    "with mujoco.viewer.launch(model, data) as viewer:\n",
    "    while True:\n",
    "        mujoco.mj_step(model, data)\n",
    "        viewer.sync()\n",
    "        time.sleep(model.opt.timestep)"
   ]
  },
  {
   "cell_type": "code",
   "execution_count": null,
   "id": "affd52c8-7ffc-4cd8-bdba-3a5ff9dfb8f4",
   "metadata": {},
   "outputs": [],
   "source": []
  }
 ],
 "metadata": {
  "kernelspec": {
   "display_name": "Python 3 (ipykernel)",
   "language": "python",
   "name": "python3"
  },
  "language_info": {
   "codemirror_mode": {
    "name": "ipython",
    "version": 3
   },
   "file_extension": ".py",
   "mimetype": "text/x-python",
   "name": "python",
   "nbconvert_exporter": "python",
   "pygments_lexer": "ipython3",
   "version": "3.10.16"
  }
 },
 "nbformat": 4,
 "nbformat_minor": 5
}
