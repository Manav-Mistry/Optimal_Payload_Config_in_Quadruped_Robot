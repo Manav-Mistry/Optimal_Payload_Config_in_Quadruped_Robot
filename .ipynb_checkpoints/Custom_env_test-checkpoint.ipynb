{
 "cells": [
  {
   "cell_type": "code",
   "execution_count": null,
   "id": "a9e2589b-8362-47e3-a2ab-592d775ae5c5",
   "metadata": {},
   "outputs": [],
   "source": [
    "try:\n",
    "    import robosuite\n",
    "    print(\"robosuite is installed.\")\n",
    "except ImportError:\n",
    "    print(\"robosuite is NOT installed.\")\n"
   ]
  },
  {
   "cell_type": "code",
   "execution_count": 2,
   "id": "518bfc39-4137-427f-b661-5cf8805eda23",
   "metadata": {},
   "outputs": [],
   "source": [
    "from robosuite.models import MujocoWorldBase\n",
    "\n",
    "world = MujocoWorldBase()"
   ]
  },
  {
   "cell_type": "code",
   "execution_count": 3,
   "id": "b2171f7d-c648-474e-ba8f-dffb4abc6083",
   "metadata": {},
   "outputs": [],
   "source": [
    "from robosuite.models.robots import Panda\n",
    "\n",
    "mujoco_robot = Panda()"
   ]
  },
  {
   "cell_type": "code",
   "execution_count": 4,
   "id": "07b38bae-d5e5-483e-8b00-d685068f447d",
   "metadata": {},
   "outputs": [],
   "source": [
    "from robosuite.models.grippers import gripper_factory\n",
    "\n",
    "gripper = gripper_factory('PandaGripper')\n",
    "mujoco_robot.add_gripper(gripper)"
   ]
  },
  {
   "cell_type": "code",
   "execution_count": 5,
   "id": "b2495a09-f11d-4f15-83fa-1c88d6963e26",
   "metadata": {},
   "outputs": [],
   "source": [
    "mujoco_robot.set_base_xpos([0, 0, 0])\n",
    "world.merge(mujoco_robot)"
   ]
  },
  {
   "cell_type": "code",
   "execution_count": 6,
   "id": "9204b129-3b33-47eb-a0d3-39cfc2f8f1be",
   "metadata": {},
   "outputs": [],
   "source": [
    "from robosuite.models.arenas import TableArena\n",
    "\n",
    "mujoco_arena = TableArena()\n",
    "mujoco_arena.set_origin([0.8, 0, 0])\n",
    "world.merge(mujoco_arena)"
   ]
  },
  {
   "cell_type": "code",
   "execution_count": 7,
   "id": "dab3272b-c51c-400a-9126-b21b8d8118b9",
   "metadata": {},
   "outputs": [],
   "source": [
    "from robosuite.models.objects import BallObject\n",
    "from robosuite.utils.mjcf_utils import new_joint\n",
    "\n",
    "sphere = BallObject(\n",
    "    name=\"sphere\",\n",
    "    size=[0.04],\n",
    "    rgba=[0, 0.5, 0.5, 1]).get_obj()\n",
    "sphere.set('pos', '1.0 0 1.0')\n",
    "world.worldbody.append(sphere)"
   ]
  },
  {
   "cell_type": "code",
   "execution_count": 8,
   "id": "eefd89e4-701e-4ae1-b857-690682cc1698",
   "metadata": {},
   "outputs": [],
   "source": [
    "model = world.get_model(mode=\"mujoco\")"
   ]
  },
  {
   "cell_type": "code",
   "execution_count": 16,
   "id": "d103dd10-eb03-4b03-b20b-57ea56f612ce",
   "metadata": {},
   "outputs": [],
   "source": [
    "import mujoco\n",
    "\n",
    "data = mujoco.MjData(model)\n",
    "while data.time < 1:\n",
    "    mujoco.mj_step(model, data)"
   ]
  },
  {
   "cell_type": "code",
   "execution_count": 27,
   "id": "15c04819-4337-4caf-b6a6-94da2a81f6b5",
   "metadata": {},
   "outputs": [
    {
     "ename": "AttributeError",
     "evalue": "__enter__",
     "output_type": "error",
     "traceback": [
      "\u001b[1;31m---------------------------------------------------------------------------\u001b[0m",
      "\u001b[1;31mAttributeError\u001b[0m                            Traceback (most recent call last)",
      "Cell \u001b[1;32mIn[27], line 5\u001b[0m\n\u001b[0;32m      2\u001b[0m \u001b[38;5;28;01mimport\u001b[39;00m \u001b[38;5;21;01mtime\u001b[39;00m\n\u001b[0;32m      4\u001b[0m \u001b[38;5;66;03m# Open viewer window\u001b[39;00m\n\u001b[1;32m----> 5\u001b[0m \u001b[38;5;28;01mwith\u001b[39;00m mujoco\u001b[38;5;241m.\u001b[39mviewer\u001b[38;5;241m.\u001b[39mlaunch(model, data) \u001b[38;5;28;01mas\u001b[39;00m viewer:\n\u001b[0;32m      6\u001b[0m     start \u001b[38;5;241m=\u001b[39m time\u001b[38;5;241m.\u001b[39mtime()\n\u001b[0;32m      7\u001b[0m     \u001b[38;5;28;01mwhile\u001b[39;00m data\u001b[38;5;241m.\u001b[39mtime \u001b[38;5;241m<\u001b[39m \u001b[38;5;241m5\u001b[39m:\n",
      "\u001b[1;31mAttributeError\u001b[0m: __enter__"
     ]
    }
   ],
   "source": [
    "import mujoco\n",
    "import time\n",
    "\n",
    "# Open viewer window\n",
    "with mujoco.viewer.launch(model, data) as viewer:\n",
    "    start = time.time()\n",
    "    while data.time < 5:\n",
    "        mujoco.mj_step(model, data)\n",
    "        viewer.sync()  # Needed to update rendering\n",
    "        time.sleep(model.opt.timestep)"
   ]
  }
 ],
 "metadata": {
  "kernelspec": {
   "display_name": "Python 3 (ipykernel)",
   "language": "python",
   "name": "python3"
  },
  "language_info": {
   "codemirror_mode": {
    "name": "ipython",
    "version": 3
   },
   "file_extension": ".py",
   "mimetype": "text/x-python",
   "name": "python",
   "nbconvert_exporter": "python",
   "pygments_lexer": "ipython3",
   "version": "3.10.16"
  }
 },
 "nbformat": 4,
 "nbformat_minor": 5
}
