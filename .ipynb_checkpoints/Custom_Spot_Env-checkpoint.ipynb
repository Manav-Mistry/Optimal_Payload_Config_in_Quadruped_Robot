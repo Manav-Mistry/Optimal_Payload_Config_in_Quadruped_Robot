{
 "cells": [
  {
   "cell_type": "markdown",
   "id": "3d80919e-f33d-42ed-9487-9a00ac7efa8b",
   "metadata": {},
   "source": [
    "## Custom Env"
   ]
  },
  {
   "cell_type": "code",
   "execution_count": 3,
   "id": "a98bd50b-bb14-4909-9e75-4faec5243ff6",
   "metadata": {},
   "outputs": [
    {
     "ename": "AttributeError",
     "evalue": "__enter__",
     "output_type": "error",
     "traceback": [
      "\u001b[1;31m---------------------------------------------------------------------------\u001b[0m",
      "\u001b[1;31mAttributeError\u001b[0m                            Traceback (most recent call last)",
      "Cell \u001b[1;32mIn[3], line 18\u001b[0m\n\u001b[0;32m     15\u001b[0m data \u001b[38;5;241m=\u001b[39m mujoco\u001b[38;5;241m.\u001b[39mMjData(model)\n\u001b[0;32m     17\u001b[0m \u001b[38;5;66;03m# Launch MuJoCo viewer\u001b[39;00m\n\u001b[1;32m---> 18\u001b[0m \u001b[38;5;28;01mwith\u001b[39;00m mujoco\u001b[38;5;241m.\u001b[39mviewer\u001b[38;5;241m.\u001b[39mlaunch(model, data) \u001b[38;5;28;01mas\u001b[39;00m viewer:\n\u001b[0;32m     19\u001b[0m     \u001b[38;5;66;03m# You can interact manually with the simulation window\u001b[39;00m\n\u001b[0;32m     20\u001b[0m     \u001b[38;5;28;01mwhile\u001b[39;00m \u001b[38;5;28;01mTrue\u001b[39;00m:\n\u001b[0;32m     21\u001b[0m         mujoco\u001b[38;5;241m.\u001b[39mmj_step(model, data)\n",
      "\u001b[1;31mAttributeError\u001b[0m: __enter__"
     ]
    }
   ],
   "source": [
    "import mujoco\n",
    "import mujoco.viewer\n",
    "import time\n",
    "\n",
    "from robosuite.models.bases import Spot  # This is your actual Spot robot base class\n",
    "\n",
    "# Instantiate Spot robot base\n",
    "spot = Spot()\n",
    "\n",
    "# Get XML string\n",
    "spot_xml = spot.get_xml()  # Returns a string of the MJCF XML\n",
    "\n",
    "# Load the model from XML string\n",
    "model = mujoco.MjModel.from_xml_string(spot_xml)\n",
    "data = mujoco.MjData(model)\n",
    "\n",
    "# Launch MuJoCo viewer\n",
    "with mujoco.viewer.launch(model, data) as viewer:\n",
    "    # You can interact manually with the simulation window\n",
    "    while True:\n",
    "        mujoco.mj_step(model, data)\n",
    "        viewer.sync()\n",
    "        time.sleep(model.opt.timestep)\n"
   ]
  },
  {
   "cell_type": "markdown",
   "id": "be46b7a9-37e5-47ad-a276-e4bb3c5f9ee0",
   "metadata": {},
   "source": [
    "### SpotArm Env"
   ]
  },
  {
   "cell_type": "markdown",
   "id": "76e0d589-7f91-48c0-993f-17cc213f7ae1",
   "metadata": {},
   "source": [
    "### Creating the world"
   ]
  },
  {
   "cell_type": "code",
   "execution_count": 4,
   "id": "9fa3abee-efad-4912-abb3-42291e77a794",
   "metadata": {},
   "outputs": [],
   "source": [
    "from robosuite.models import MujocoWorldBase\n",
    "\n",
    "world = MujocoWorldBase()"
   ]
  },
  {
   "cell_type": "markdown",
   "id": "854ea800-f3a7-4eb7-bf21-bfc902cb9346",
   "metadata": {},
   "source": [
    "### Creating the robot"
   ]
  },
  {
   "cell_type": "code",
   "execution_count": 5,
   "id": "98cef95b-f514-41d9-b87d-64db42697de5",
   "metadata": {},
   "outputs": [],
   "source": [
    "from robosuite.models.robots import Panda\n",
    "\n",
    "mujoco_robot = Panda()"
   ]
  },
  {
   "cell_type": "code",
   "execution_count": 6,
   "id": "5c111c1c-757f-466b-85c8-eae91bc9e1ad",
   "metadata": {},
   "outputs": [],
   "source": [
    "from robosuite.models.grippers import gripper_factory\n",
    "\n",
    "gripper = gripper_factory('PandaGripper')\n",
    "mujoco_robot.add_gripper(gripper)"
   ]
  },
  {
   "cell_type": "code",
   "execution_count": 7,
   "id": "7e4f705a-9373-4d07-a671-57817f1cbf00",
   "metadata": {},
   "outputs": [],
   "source": [
    "mujoco_robot.set_base_xpos([0, 0, 0])\n",
    "world.merge(mujoco_robot)"
   ]
  },
  {
   "cell_type": "markdown",
   "id": "8a94a215-fbe0-4c9f-961f-4707d05b5c43",
   "metadata": {},
   "source": [
    "### Creating Arena"
   ]
  },
  {
   "cell_type": "code",
   "execution_count": 8,
   "id": "da10d47b-2689-4eb1-9ae3-555a3c4b7361",
   "metadata": {},
   "outputs": [],
   "source": [
    "from robosuite.models.arenas import TableArena\n",
    "\n",
    "mujoco_arena = TableArena()\n",
    "mujoco_arena.set_origin([0.8, 0, 0])\n",
    "world.merge(mujoco_arena)"
   ]
  },
  {
   "cell_type": "markdown",
   "id": "9056f0bd-1eba-434c-9ef0-70190e593cf9",
   "metadata": {},
   "source": [
    "### Adding Object"
   ]
  },
  {
   "cell_type": "code",
   "execution_count": 9,
   "id": "eceafeae-6d0d-443b-ac59-f07d105ddfc5",
   "metadata": {},
   "outputs": [],
   "source": [
    "from robosuite.models.objects import BallObject\n",
    "from robosuite.utils.mjcf_utils import new_joint\n",
    "\n",
    "sphere = BallObject(\n",
    "    name=\"sphere\",\n",
    "    size=[0.04],\n",
    "    rgba=[0, 0.5, 0.5, 1]).get_obj()\n",
    "sphere.set('pos', '1.0 0 1.0')\n",
    "world.worldbody.append(sphere)"
   ]
  },
  {
   "cell_type": "markdown",
   "id": "b557d7bf-b5e2-4705-805c-63c05b68611c",
   "metadata": {},
   "source": [
    "### Running Simulation"
   ]
  },
  {
   "cell_type": "code",
   "execution_count": 10,
   "id": "b4024a9e-6b20-4781-aeb5-79fc57c55124",
   "metadata": {},
   "outputs": [],
   "source": [
    "model = world.get_model(mode=\"mujoco\")"
   ]
  },
  {
   "cell_type": "code",
   "execution_count": 11,
   "id": "4ae41375-d7b7-4353-b7bb-5a7cd2573f58",
   "metadata": {},
   "outputs": [
    {
     "ename": "AttributeError",
     "evalue": "__enter__",
     "output_type": "error",
     "traceback": [
      "\u001b[1;31m---------------------------------------------------------------------------\u001b[0m",
      "\u001b[1;31mAttributeError\u001b[0m                            Traceback (most recent call last)",
      "Cell \u001b[1;32mIn[11], line 4\u001b[0m\n\u001b[0;32m      1\u001b[0m \u001b[38;5;28;01mimport\u001b[39;00m \u001b[38;5;21;01mmujoco\u001b[39;00m\n\u001b[0;32m      3\u001b[0m data \u001b[38;5;241m=\u001b[39m mujoco\u001b[38;5;241m.\u001b[39mMjData(model)\n\u001b[1;32m----> 4\u001b[0m \u001b[38;5;28;01mwith\u001b[39;00m mujoco\u001b[38;5;241m.\u001b[39mviewer\u001b[38;5;241m.\u001b[39mlaunch(model, data) \u001b[38;5;28;01mas\u001b[39;00m viewer:\n\u001b[0;32m      5\u001b[0m     \u001b[38;5;28;01mwhile\u001b[39;00m \u001b[38;5;28;01mTrue\u001b[39;00m:\n\u001b[0;32m      6\u001b[0m         mujoco\u001b[38;5;241m.\u001b[39mmj_step(model, data)\n",
      "\u001b[1;31mAttributeError\u001b[0m: __enter__"
     ]
    }
   ],
   "source": [
    "import mujoco\n",
    "\n",
    "data = mujoco.MjData(model)\n",
    "with mujoco.viewer.launch(model, data) as viewer:\n",
    "    while True:\n",
    "        mujoco.mj_step(model, data)\n",
    "        viewer.sync()\n",
    "        time.sleep(model.opt.timestep)"
   ]
  },
  {
   "cell_type": "code",
   "execution_count": null,
   "id": "d336bb9b-644f-48b3-8cbf-c3e93f030260",
   "metadata": {},
   "outputs": [],
   "source": []
  },
  {
   "cell_type": "code",
   "execution_count": null,
   "id": "61698d0d-8f5c-4462-92fe-7cd2af2c0b30",
   "metadata": {},
   "outputs": [],
   "source": []
  }
 ],
 "metadata": {
  "kernelspec": {
   "display_name": "Python 3 (ipykernel)",
   "language": "python",
   "name": "python3"
  },
  "language_info": {
   "codemirror_mode": {
    "name": "ipython",
    "version": 3
   },
   "file_extension": ".py",
   "mimetype": "text/x-python",
   "name": "python",
   "nbconvert_exporter": "python",
   "pygments_lexer": "ipython3",
   "version": "3.10.16"
  }
 },
 "nbformat": 4,
 "nbformat_minor": 5
}
